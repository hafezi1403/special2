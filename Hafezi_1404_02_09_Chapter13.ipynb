{
  "nbformat": 4,
  "nbformat_minor": 0,
  "metadata": {
    "colab": {
      "provenance": [],
      "authorship_tag": "ABX9TyMrO8x3dJ/OJ7aubeQgr30Y",
      "include_colab_link": true
    },
    "kernelspec": {
      "name": "python3",
      "display_name": "Python 3"
    },
    "language_info": {
      "name": "python"
    }
  },
  "cells": [
    {
      "cell_type": "markdown",
      "metadata": {
        "id": "view-in-github",
        "colab_type": "text"
      },
      "source": [
        "<a href=\"https://colab.research.google.com/github/hafezi1403/special2/blob/main/Hafezi_1404_02_09_Chapter13.ipynb\" target=\"_parent\"><img src=\"https://colab.research.google.com/assets/colab-badge.svg\" alt=\"Open In Colab\"/></a>"
      ]
    },
    {
      "cell_type": "code",
      "execution_count": 1,
      "metadata": {
        "id": "e5a8ngykl7Rb"
      },
      "outputs": [],
      "source": [
        "# Load libraries\n",
        "from sklearn.linear_model import LinearRegression\n",
        "from sklearn.datasets import make_regression\n",
        "# Generate features matrix, target vector\n",
        "features, target = make_regression(n_samples = 100,\n",
        "n_features = 3,\n",
        "n_informative = 2,\n",
        "n_targets = 1,\n",
        "noise = 0.2,\n",
        "coef = False,\n",
        "random_state = 1)\n",
        "# Create linear regression\n",
        "regression = LinearRegression()\n",
        "# Fit the linear regression\n",
        "model = regression.fit(features, target)"
      ]
    },
    {
      "cell_type": "code",
      "source": [
        "# View the intercept\n",
        "model.intercept_"
      ],
      "metadata": {
        "colab": {
          "base_uri": "https://localhost:8080/"
        },
        "id": "KlnOfMU0mM8a",
        "outputId": "001dc4e0-33f4-4302-f3bb-aadfd7fe484f"
      },
      "execution_count": 2,
      "outputs": [
        {
          "output_type": "execute_result",
          "data": {
            "text/plain": [
              "np.float64(-0.009650118178816669)"
            ]
          },
          "metadata": {},
          "execution_count": 2
        }
      ]
    },
    {
      "cell_type": "code",
      "source": [
        "# View the feature coefficients\n",
        "model.coef_"
      ],
      "metadata": {
        "colab": {
          "base_uri": "https://localhost:8080/"
        },
        "id": "YmUKS1-hmOLI",
        "outputId": "ce0fefe8-f2fa-4816-80be-5206b1503439"
      },
      "execution_count": 3,
      "outputs": [
        {
          "output_type": "execute_result",
          "data": {
            "text/plain": [
              "array([1.95531234e-02, 4.42087450e+01, 5.81494563e+01])"
            ]
          },
          "metadata": {},
          "execution_count": 3
        }
      ]
    },
    {
      "cell_type": "code",
      "source": [
        "# First value in the target vector\n",
        "target[0]"
      ],
      "metadata": {
        "colab": {
          "base_uri": "https://localhost:8080/"
        },
        "id": "u_LX8JOumUXQ",
        "outputId": "c00af309-1aed-441e-f258-81c8e894b8c4"
      },
      "execution_count": 4,
      "outputs": [
        {
          "output_type": "execute_result",
          "data": {
            "text/plain": [
              "np.float64(-20.870747595269407)"
            ]
          },
          "metadata": {},
          "execution_count": 4
        }
      ]
    },
    {
      "cell_type": "code",
      "source": [
        "# Predict the target value of the first observation\n",
        "model.predict(features)[0]"
      ],
      "metadata": {
        "colab": {
          "base_uri": "https://localhost:8080/"
        },
        "id": "D6ZFxxhgmVYw",
        "outputId": "2b7358ed-3529-45d3-f844-273de9cd6172"
      },
      "execution_count": 5,
      "outputs": [
        {
          "output_type": "execute_result",
          "data": {
            "text/plain": [
              "np.float64(-20.861927709296808)"
            ]
          },
          "metadata": {},
          "execution_count": 5
        }
      ]
    },
    {
      "cell_type": "code",
      "source": [
        "# Print the score of the model on the training data\n",
        "print(model.score(features, target))"
      ],
      "metadata": {
        "colab": {
          "base_uri": "https://localhost:8080/"
        },
        "id": "-UmMOPpEmYqo",
        "outputId": "c84a7a47-61ad-4bb7-b99f-df16a3b1d40f"
      },
      "execution_count": 6,
      "outputs": [
        {
          "output_type": "stream",
          "name": "stdout",
          "text": [
            "0.9999901732607787\n"
          ]
        }
      ]
    },
    {
      "cell_type": "code",
      "source": [
        "# Load libraries\n",
        "from sklearn.linear_model import LinearRegression\n",
        "from sklearn.preprocessing import PolynomialFeatures\n",
        "from sklearn.datasets import make_regression\n",
        "# Generate features matrix, target vector\n",
        "features, target = make_regression(n_samples = 100,\n",
        "n_features = 2,\n",
        "n_informative = 2,\n",
        "n_targets = 1,\n",
        "noise = 0.2,\n",
        "coef = False,\n",
        "random_state = 1)\n",
        "# Create interaction term\n",
        "interaction = PolynomialFeatures(\n",
        "degree=3, include_bias=False, interaction_only=True)\n",
        "features_interaction = interaction.fit_transform(features)\n",
        "# Create linear regression\n",
        "regression = LinearRegression()\n",
        "# Fit the linear regression\n",
        "model = regression.fit(features_interaction, target)"
      ],
      "metadata": {
        "id": "HfyWRpQpmgvZ"
      },
      "execution_count": 7,
      "outputs": []
    },
    {
      "cell_type": "code",
      "source": [
        "# View the feature values for first observation\n",
        "features[0]"
      ],
      "metadata": {
        "colab": {
          "base_uri": "https://localhost:8080/"
        },
        "id": "EGk55UNWmihA",
        "outputId": "11cd8265-8d68-40c8-db63-d41424406437"
      },
      "execution_count": 8,
      "outputs": [
        {
          "output_type": "execute_result",
          "data": {
            "text/plain": [
              "array([0.0465673 , 0.80186103])"
            ]
          },
          "metadata": {},
          "execution_count": 8
        }
      ]
    },
    {
      "cell_type": "code",
      "source": [
        "# Import library\n",
        "import numpy as np\n",
        "# For each observation, multiply the values of the first and second feature\n",
        "interaction_term = np.multiply(features[:, 0], features[:, 1])"
      ],
      "metadata": {
        "id": "VPTAx7KUmmsp"
      },
      "execution_count": 9,
      "outputs": []
    },
    {
      "cell_type": "code",
      "source": [
        "# View interaction term for first observation\n",
        "interaction_term[0]"
      ],
      "metadata": {
        "colab": {
          "base_uri": "https://localhost:8080/"
        },
        "id": "jSjgTgpFmssR",
        "outputId": "125b02a4-bc5d-478a-d82e-ef8fec776af3"
      },
      "execution_count": 10,
      "outputs": [
        {
          "output_type": "execute_result",
          "data": {
            "text/plain": [
              "np.float64(0.037340501965846186)"
            ]
          },
          "metadata": {},
          "execution_count": 10
        }
      ]
    },
    {
      "cell_type": "code",
      "source": [
        "# Load library\n",
        "from sklearn.linear_model import LinearRegression\n",
        "from sklearn.preprocessing import PolynomialFeatures\n",
        "from sklearn.datasets import make_regression\n",
        "# Generate features matrix, target vector\n",
        "features, target = make_regression(n_samples = 100,\n",
        "n_features = 3,\n",
        "n_informative = 2,\n",
        "n_targets = 1,\n",
        "noise = 0.2,\n",
        "coef = False,\n",
        "random_state = 1)\n",
        "# Create polynomial features x^2 and x^3\n",
        "polynomial = PolynomialFeatures(degree=3, include_bias=False)\n",
        "features_polynomial = polynomial.fit_transform(features)\n",
        "# Create linear regression\n",
        "regression = LinearRegression()\n",
        "# Fit the linear regression\n",
        "model = regression.fit(features_polynomial, target)"
      ],
      "metadata": {
        "id": "VtNXQUNjmttI"
      },
      "execution_count": 11,
      "outputs": []
    },
    {
      "cell_type": "code",
      "source": [
        "# View first observation\n",
        "features[0]"
      ],
      "metadata": {
        "colab": {
          "base_uri": "https://localhost:8080/"
        },
        "id": "-XLOSuDXmyQR",
        "outputId": "6ae33cee-d21c-44ac-85d3-dff659ef6af9"
      },
      "execution_count": 12,
      "outputs": [
        {
          "output_type": "execute_result",
          "data": {
            "text/plain": [
              "array([ 0.58591043,  0.78477065, -0.95542526])"
            ]
          },
          "metadata": {},
          "execution_count": 12
        }
      ]
    },
    {
      "cell_type": "code",
      "source": [
        "# View first observation raised to the second power, x^2\n",
        "features[0]**2"
      ],
      "metadata": {
        "colab": {
          "base_uri": "https://localhost:8080/"
        },
        "id": "MjlGtM5om1yY",
        "outputId": "117792e0-c31c-4bac-865f-86d10abc7dea"
      },
      "execution_count": 13,
      "outputs": [
        {
          "output_type": "execute_result",
          "data": {
            "text/plain": [
              "array([0.34329103, 0.61586497, 0.91283743])"
            ]
          },
          "metadata": {},
          "execution_count": 13
        }
      ]
    },
    {
      "cell_type": "code",
      "source": [
        "# View first observation raised to the third power, x^3\n",
        "features[0]**3"
      ],
      "metadata": {
        "colab": {
          "base_uri": "https://localhost:8080/"
        },
        "id": "c5krDf-Bm4ew",
        "outputId": "03d5d073-87d9-493d-981c-9133195b01ac"
      },
      "execution_count": 14,
      "outputs": [
        {
          "output_type": "execute_result",
          "data": {
            "text/plain": [
              "array([ 0.2011378 ,  0.48331276, -0.87214794])"
            ]
          },
          "metadata": {},
          "execution_count": 14
        }
      ]
    },
    {
      "cell_type": "code",
      "source": [
        "# View the first observation's values for x, x^2, and x^3\n",
        "features_polynomial[0]"
      ],
      "metadata": {
        "colab": {
          "base_uri": "https://localhost:8080/"
        },
        "id": "XDQ6I-9km7q4",
        "outputId": "2bb2bb84-9192-4fc6-c236-3c4aa8bddd69"
      },
      "execution_count": 15,
      "outputs": [
        {
          "output_type": "execute_result",
          "data": {
            "text/plain": [
              "array([ 0.58591043,  0.78477065, -0.95542526,  0.34329103,  0.45980531,\n",
              "       -0.55979363,  0.61586497, -0.74978971,  0.91283743,  0.2011378 ,\n",
              "        0.26940473, -0.32798893,  0.36084171, -0.43930961,  0.53484097,\n",
              "        0.48331276, -0.58841296,  0.71636803, -0.87214794])"
            ]
          },
          "metadata": {},
          "execution_count": 15
        }
      ]
    },
    {
      "cell_type": "code",
      "source": [
        "# Load libraries\n",
        "from sklearn.linear_model import Ridge\n",
        "from sklearn.preprocessing import StandardScaler\n",
        "from sklearn.datasets import make_regression\n",
        "# Generate features matrix, target vector\n",
        "features, target = make_regression(n_samples = 100,\n",
        "n_features = 3,\n",
        "n_informative = 2,\n",
        "n_targets = 1,\n",
        "noise = 0.2,\n",
        "coef = False,\n",
        "random_state = 1)\n",
        "# Standardize features\n",
        "scaler = StandardScaler()\n",
        "features_standardized = scaler.fit_transform(features)\n",
        "# Create ridge regression with an alpha value\n",
        "regression = Ridge(alpha=0.5)\n",
        "# Fit the linear regression\n",
        "model = regression.fit(features_standardized, target)"
      ],
      "metadata": {
        "id": "0gZUMMIrm_Xw"
      },
      "execution_count": 16,
      "outputs": []
    },
    {
      "cell_type": "code",
      "source": [
        "# Load library\n",
        "from sklearn.linear_model import RidgeCV\n",
        "# Create ridge regression with three alpha values\n",
        "regr_cv = RidgeCV(alphas=[0.1, 1.0, 10.0])\n",
        "# Fit the linear regression\n",
        "model_cv = regr_cv.fit(features_standardized, target)\n",
        "# View coefficients\n",
        "model_cv.coef_"
      ],
      "metadata": {
        "colab": {
          "base_uri": "https://localhost:8080/"
        },
        "id": "4jotmd8DnGpg",
        "outputId": "2b1480e1-4432-4237-ee22-50939ae3d50b"
      },
      "execution_count": 17,
      "outputs": [
        {
          "output_type": "execute_result",
          "data": {
            "text/plain": [
              "array([1.29223201e-02, 4.40972291e+01, 5.38979372e+01])"
            ]
          },
          "metadata": {},
          "execution_count": 17
        }
      ]
    },
    {
      "cell_type": "code",
      "source": [
        "# View alpha\n",
        "model_cv.alpha_"
      ],
      "metadata": {
        "colab": {
          "base_uri": "https://localhost:8080/"
        },
        "id": "rpK8c5CqnHq4",
        "outputId": "465e8abe-7740-4708-83d3-1a746109d68e"
      },
      "execution_count": 19,
      "outputs": [
        {
          "output_type": "execute_result",
          "data": {
            "text/plain": [
              "np.float64(0.1)"
            ]
          },
          "metadata": {},
          "execution_count": 19
        }
      ]
    },
    {
      "cell_type": "code",
      "source": [
        "# Load library\n",
        "from sklearn.linear_model import Lasso\n",
        "from sklearn.preprocessing import StandardScaler\n",
        "from sklearn.datasets import make_regression\n",
        "# Generate features matrix, target vector\n",
        "features, target = make_regression(n_samples = 100,\n",
        "n_features = 3,\n",
        "n_informative = 2,\n",
        "n_targets = 1,\n",
        "noise = 0.2,\n",
        "coef = False,\n",
        "random_state = 1)\n",
        "# Standardize features\n",
        "scaler = StandardScaler()\n",
        "features_standardized = scaler.fit_transform(features)\n",
        "# Create lasso regression with alpha value\n",
        "regression = Lasso(alpha=0.5)\n",
        "# Fit the linear regression\n",
        "model = regression.fit(features_standardized, target)"
      ],
      "metadata": {
        "id": "rYwGR7uVnTTL"
      },
      "execution_count": 20,
      "outputs": []
    },
    {
      "cell_type": "code",
      "source": [
        "# View coefficients\n",
        "model.coef_"
      ],
      "metadata": {
        "colab": {
          "base_uri": "https://localhost:8080/"
        },
        "id": "L2WXBNEHnUpA",
        "outputId": "26d8394f-e2c5-4c53-e92a-41c5a180bf7e"
      },
      "execution_count": 21,
      "outputs": [
        {
          "output_type": "execute_result",
          "data": {
            "text/plain": [
              "array([-0.        , 43.58618393, 53.39523724])"
            ]
          },
          "metadata": {},
          "execution_count": 21
        }
      ]
    },
    {
      "cell_type": "code",
      "source": [
        "# Create lasso regression with a high alpha\n",
        "regression_a10 = Lasso(alpha=10)\n",
        "model_a10 = regression_a10.fit(features_standardized, target)\n",
        "model_a10.coef_"
      ],
      "metadata": {
        "colab": {
          "base_uri": "https://localhost:8080/"
        },
        "id": "wTxcS9rknZ55",
        "outputId": "886ed6fb-16e4-4d43-cee7-602d8ce736de"
      },
      "execution_count": 22,
      "outputs": [
        {
          "output_type": "execute_result",
          "data": {
            "text/plain": [
              "array([-0.        , 32.92181899, 42.73086731])"
            ]
          },
          "metadata": {},
          "execution_count": 22
        }
      ]
    }
  ]
}